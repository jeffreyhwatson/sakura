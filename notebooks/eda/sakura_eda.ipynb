{
 "cells": [
  {
   "cell_type": "code",
   "execution_count": 1,
   "metadata": {
    "execution": {
     "iopub.execute_input": "2021-09-30T05:03:09.190689Z",
     "iopub.status.busy": "2021-09-30T05:03:09.190242Z",
     "iopub.status.idle": "2021-09-30T05:03:09.211975Z",
     "shell.execute_reply": "2021-09-30T05:03:09.211293Z",
     "shell.execute_reply.started": "2021-09-30T05:03:09.190609Z"
    }
   },
   "outputs": [],
   "source": [
    "%load_ext autoreload\n",
    "%autoreload 2"
   ]
  },
  {
   "cell_type": "markdown",
   "metadata": {},
   "source": [
    "# Sakura Mini-Project\n",
    "\n",
    "## Purpose:\n",
    "\n",
    "Descripitve analysis on the Cherry Blossom data set to uncover trends in the peak bloom days for Kyoto sakura over time.\n",
    "\n",
    "## Data Set: \n",
    "\n",
    "Historical Series of Phenological data for Cherry Tree Flowering at Kyoto City\n",
    "(and March Mean Temperature Reconstructions) by Aono and Kazui, 2008; Aono and Saito, 2010; Aono, 2012.\n",
    "\n",
    "[Data Set Website](http://atmenv.envi.osakafu-u.ac.jp/aono/kyophenotemp4/)"
   ]
  },
  {
   "cell_type": "markdown",
   "metadata": {},
   "source": [
    "# Imports"
   ]
  },
  {
   "cell_type": "code",
   "execution_count": 2,
   "metadata": {
    "execution": {
     "iopub.execute_input": "2021-09-30T05:03:09.215905Z",
     "iopub.status.busy": "2021-09-30T05:03:09.215421Z",
     "iopub.status.idle": "2021-09-30T05:03:10.598450Z",
     "shell.execute_reply": "2021-09-30T05:03:10.597773Z",
     "shell.execute_reply.started": "2021-09-30T05:03:09.215849Z"
    }
   },
   "outputs": [],
   "source": [
    "import os\n",
    "import sys\n",
    "gparent = os.path.join(os.pardir, os.pardir)\n",
    "sys.path.append(gparent)\n",
    "\n",
    "import pandas as pd\n",
    "import matplotlib.pyplot as plt\n",
    "import seaborn as sns\n",
    "\n",
    "\n",
    "import statsmodels.api as sm\n",
    "from statsmodels.formula.api import ols\n",
    "from statsmodels.stats.diagnostic import linear_rainbow, het_breuschpagan\n",
    "\n",
    "from src import visuals as vz\n",
    "from src import functions as fn\n",
    "\n",
    "%matplotlib inline \n",
    "plt.style.use('fivethirtyeight')\n",
    "pd.set_option('display.max_colwidth', None)"
   ]
  },
  {
   "cell_type": "markdown",
   "metadata": {},
   "source": [
    "# Loading the Data"
   ]
  },
  {
   "cell_type": "code",
   "execution_count": 3,
   "metadata": {
    "execution": {
     "iopub.execute_input": "2021-09-30T05:03:10.600481Z",
     "iopub.status.busy": "2021-09-30T05:03:10.600264Z",
     "iopub.status.idle": "2021-09-30T05:03:10.659711Z",
     "shell.execute_reply": "2021-09-30T05:03:10.659012Z",
     "shell.execute_reply.started": "2021-09-30T05:03:10.600457Z"
    }
   },
   "outputs": [],
   "source": [
    "sakura_path = os.path.join(gparent,'data', 'KyotoFullFlower7.xls')\n",
    "df = pd.read_excel(sakura_path)"
   ]
  },
  {
   "cell_type": "code",
   "execution_count": 4,
   "metadata": {
    "execution": {
     "iopub.execute_input": "2021-09-30T05:03:10.661130Z",
     "iopub.status.busy": "2021-09-30T05:03:10.660968Z",
     "iopub.status.idle": "2021-09-30T05:03:10.714402Z",
     "shell.execute_reply": "2021-09-30T05:03:10.713627Z",
     "shell.execute_reply.started": "2021-09-30T05:03:10.661111Z"
    }
   },
   "outputs": [],
   "source": [
    "temp_path = os.path.join(gparent, 'data', 'TempReconst7Final.xls')\n",
    "temp = pd.read_excel(temp_path)"
   ]
  },
  {
   "cell_type": "code",
   "execution_count": 5,
   "metadata": {
    "execution": {
     "iopub.execute_input": "2021-09-30T05:03:10.715711Z",
     "iopub.status.busy": "2021-09-30T05:03:10.715507Z",
     "iopub.status.idle": "2021-09-30T05:03:10.743829Z",
     "shell.execute_reply": "2021-09-30T05:03:10.743256Z",
     "shell.execute_reply.started": "2021-09-30T05:03:10.715688Z"
    }
   },
   "outputs": [
    {
     "data": {
      "text/plain": [
       "((1240, 6), (1196, 7))"
      ]
     },
     "execution_count": 5,
     "metadata": {},
     "output_type": "execute_result"
    }
   ],
   "source": [
    "# checking the shapes\n",
    "df.shape, temp.shape"
   ]
  },
  {
   "cell_type": "markdown",
   "metadata": {},
   "source": [
    "# Date Data Frame"
   ]
  },
  {
   "cell_type": "code",
   "execution_count": 6,
   "metadata": {
    "execution": {
     "iopub.execute_input": "2021-09-30T05:03:10.745219Z",
     "iopub.status.busy": "2021-09-30T05:03:10.745023Z",
     "iopub.status.idle": "2021-09-30T05:03:10.782278Z",
     "shell.execute_reply": "2021-09-30T05:03:10.781713Z",
     "shell.execute_reply.started": "2021-09-30T05:03:10.745197Z"
    },
    "tags": []
   },
   "outputs": [
    {
     "data": {
      "text/html": [
       "<div>\n",
       "<style scoped>\n",
       "    .dataframe tbody tr th:only-of-type {\n",
       "        vertical-align: middle;\n",
       "    }\n",
       "\n",
       "    .dataframe tbody tr th {\n",
       "        vertical-align: top;\n",
       "    }\n",
       "\n",
       "    .dataframe thead th {\n",
       "        text-align: right;\n",
       "    }\n",
       "</style>\n",
       "<table border=\"1\" class=\"dataframe\">\n",
       "  <thead>\n",
       "    <tr style=\"text-align: right;\">\n",
       "      <th></th>\n",
       "      <th>Full-flowering dates of Japanese cherry (Prunus jamasakura) at Kyoto, Japan. (Latest version, Jun. 12, 2012)</th>\n",
       "      <th>Unnamed: 1</th>\n",
       "      <th>Unnamed: 2</th>\n",
       "      <th>Unnamed: 3</th>\n",
       "      <th>Unnamed: 4</th>\n",
       "      <th>Unnamed: 5</th>\n",
       "    </tr>\n",
       "  </thead>\n",
       "  <tbody>\n",
       "    <tr>\n",
       "      <th>0</th>\n",
       "      <td>This phenological data was acquired by following studies.</td>\n",
       "      <td>NaN</td>\n",
       "      <td>NaN</td>\n",
       "      <td>NaN</td>\n",
       "      <td>NaN</td>\n",
       "      <td>NaN</td>\n",
       "    </tr>\n",
       "    <tr>\n",
       "      <th>1</th>\n",
       "      <td>NaN</td>\n",
       "      <td>NaN</td>\n",
       "      <td>NaN</td>\n",
       "      <td>NaN</td>\n",
       "      <td>NaN</td>\n",
       "      <td>NaN</td>\n",
       "    </tr>\n",
       "    <tr>\n",
       "      <th>2</th>\n",
       "      <td>Column A; A.D.</td>\n",
       "      <td>NaN</td>\n",
       "      <td>NaN</td>\n",
       "      <td>NaN</td>\n",
       "      <td>NaN</td>\n",
       "      <td>NaN</td>\n",
       "    </tr>\n",
       "    <tr>\n",
       "      <th>3</th>\n",
       "      <td>Column B; Full-flowering date (day of year).</td>\n",
       "      <td>NaN</td>\n",
       "      <td>NaN</td>\n",
       "      <td>NaN</td>\n",
       "      <td>NaN</td>\n",
       "      <td>NaN</td>\n",
       "    </tr>\n",
       "    <tr>\n",
       "      <th>4</th>\n",
       "      <td>Column C; Full-flowering date (calender date, e.g. 402 --&gt; April 2).</td>\n",
       "      <td>NaN</td>\n",
       "      <td>NaN</td>\n",
       "      <td>NaN</td>\n",
       "      <td>NaN</td>\n",
       "      <td>NaN</td>\n",
       "    </tr>\n",
       "    <tr>\n",
       "      <th>5</th>\n",
       "      <td>Column D; Source code</td>\n",
       "      <td>NaN</td>\n",
       "      <td>NaN</td>\n",
       "      <td>NaN</td>\n",
       "      <td>NaN</td>\n",
       "      <td>NaN</td>\n",
       "    </tr>\n",
       "    <tr>\n",
       "      <th>6</th>\n",
       "      <td>1; Reported by Taguchi (1939), J. Marine Meteorol. Soc. (Umi to Sora), 19, 217-227</td>\n",
       "      <td>NaN</td>\n",
       "      <td>NaN</td>\n",
       "      <td>NaN</td>\n",
       "      <td>NaN</td>\n",
       "      <td>NaN</td>\n",
       "    </tr>\n",
       "    <tr>\n",
       "      <th>7</th>\n",
       "      <td>2; Added by Sekiguchi (1969), Tokyo Geography Papers, 13, 175-190.</td>\n",
       "      <td>NaN</td>\n",
       "      <td>NaN</td>\n",
       "      <td>NaN</td>\n",
       "      <td>NaN</td>\n",
       "      <td>NaN</td>\n",
       "    </tr>\n",
       "    <tr>\n",
       "      <th>8</th>\n",
       "      <td>3; Added by Aono and Omoto (1994), J. Agric. Meteorol., 49, 263-272.</td>\n",
       "      <td>NaN</td>\n",
       "      <td>NaN</td>\n",
       "      <td>NaN</td>\n",
       "      <td>NaN</td>\n",
       "      <td>NaN</td>\n",
       "    </tr>\n",
       "    <tr>\n",
       "      <th>9</th>\n",
       "      <td>4; Added by Aono and Kazui (2008), Int. J. Climatol., 28, 905-914 (doi: 10.1002/joc.1594).</td>\n",
       "      <td>NaN</td>\n",
       "      <td>NaN</td>\n",
       "      <td>NaN</td>\n",
       "      <td>NaN</td>\n",
       "      <td>NaN</td>\n",
       "    </tr>\n",
       "    <tr>\n",
       "      <th>10</th>\n",
       "      <td>5: Cherry phenological data, Added by Aono and Saito (2010), Int. J. Biometeorol., 54, 211-219.</td>\n",
       "      <td>NaN</td>\n",
       "      <td>NaN</td>\n",
       "      <td>NaN</td>\n",
       "      <td>NaN</td>\n",
       "      <td>NaN</td>\n",
       "    </tr>\n",
       "    <tr>\n",
       "      <th>11</th>\n",
       "      <td>6: Added by Aono (2011), Time Studies, 4, 17-29. (in Japanese with English abstract)</td>\n",
       "      <td>NaN</td>\n",
       "      <td>NaN</td>\n",
       "      <td>NaN</td>\n",
       "      <td>NaN</td>\n",
       "      <td>NaN</td>\n",
       "    </tr>\n",
       "    <tr>\n",
       "      <th>12</th>\n",
       "      <td>7: Added by Aono (2012), Chikyu Kankyo, 17, 21-29. (in Japanese)</td>\n",
       "      <td>NaN</td>\n",
       "      <td>NaN</td>\n",
       "      <td>NaN</td>\n",
       "      <td>NaN</td>\n",
       "      <td>NaN</td>\n",
       "    </tr>\n",
       "    <tr>\n",
       "      <th>13</th>\n",
       "      <td>8: Found after the last publication of articles.</td>\n",
       "      <td>NaN</td>\n",
       "      <td>NaN</td>\n",
       "      <td>NaN</td>\n",
       "      <td>NaN</td>\n",
       "      <td>NaN</td>\n",
       "    </tr>\n",
       "    <tr>\n",
       "      <th>14</th>\n",
       "      <td>Column E; Data type code</td>\n",
       "      <td>NaN</td>\n",
       "      <td>NaN</td>\n",
       "      <td>NaN</td>\n",
       "      <td>NaN</td>\n",
       "      <td>NaN</td>\n",
       "    </tr>\n",
       "    <tr>\n",
       "      <th>15</th>\n",
       "      <td>0 : data from modern times (full-bloom date since 1880s)</td>\n",
       "      <td>NaN</td>\n",
       "      <td>NaN</td>\n",
       "      <td>NaN</td>\n",
       "      <td>NaN</td>\n",
       "      <td>NaN</td>\n",
       "    </tr>\n",
       "    <tr>\n",
       "      <th>16</th>\n",
       "      <td>1 : from diary description about full-bloom</td>\n",
       "      <td>NaN</td>\n",
       "      <td>NaN</td>\n",
       "      <td>NaN</td>\n",
       "      <td>NaN</td>\n",
       "      <td>NaN</td>\n",
       "    </tr>\n",
       "    <tr>\n",
       "      <th>17</th>\n",
       "      <td>2 : from diary description about cherry blossom viewing party</td>\n",
       "      <td>NaN</td>\n",
       "      <td>NaN</td>\n",
       "      <td>NaN</td>\n",
       "      <td>NaN</td>\n",
       "      <td>NaN</td>\n",
       "    </tr>\n",
       "    <tr>\n",
       "      <th>18</th>\n",
       "      <td>3 : from diary description about presents of cherry twigs from party participants</td>\n",
       "      <td>NaN</td>\n",
       "      <td>NaN</td>\n",
       "      <td>NaN</td>\n",
       "      <td>NaN</td>\n",
       "      <td>NaN</td>\n",
       "    </tr>\n",
       "    <tr>\n",
       "      <th>19</th>\n",
       "      <td>4 : title in Japanese poety</td>\n",
       "      <td>NaN</td>\n",
       "      <td>NaN</td>\n",
       "      <td>NaN</td>\n",
       "      <td>NaN</td>\n",
       "      <td>NaN</td>\n",
       "    </tr>\n",
       "    <tr>\n",
       "      <th>20</th>\n",
       "      <td>8 : Deduced from wisteria phenology, using the relation proposed by Aono and Saito (2010)</td>\n",
       "      <td>NaN</td>\n",
       "      <td>NaN</td>\n",
       "      <td>NaN</td>\n",
       "      <td>NaN</td>\n",
       "      <td>NaN</td>\n",
       "    </tr>\n",
       "    <tr>\n",
       "      <th>21</th>\n",
       "      <td>9 : Deduced from Japanese kerria phenology, using the relation proposed by Aono (2011)</td>\n",
       "      <td>NaN</td>\n",
       "      <td>NaN</td>\n",
       "      <td>NaN</td>\n",
       "      <td>NaN</td>\n",
       "      <td>NaN</td>\n",
       "    </tr>\n",
       "    <tr>\n",
       "      <th>22</th>\n",
       "      <td>Column F; Names of old documents</td>\n",
       "      <td>NaN</td>\n",
       "      <td>NaN</td>\n",
       "      <td>NaN</td>\n",
       "      <td>NaN</td>\n",
       "      <td>NaN</td>\n",
       "    </tr>\n",
       "    <tr>\n",
       "      <th>23</th>\n",
       "      <td>NaN</td>\n",
       "      <td>NaN</td>\n",
       "      <td>NaN</td>\n",
       "      <td>NaN</td>\n",
       "      <td>NaN</td>\n",
       "      <td>NaN</td>\n",
       "    </tr>\n",
       "    <tr>\n",
       "      <th>24</th>\n",
       "      <td>AD</td>\n",
       "      <td>Full-flowering date (DOY)</td>\n",
       "      <td>Full-flowering date</td>\n",
       "      <td>Source code</td>\n",
       "      <td>Data type code</td>\n",
       "      <td>Reference Name</td>\n",
       "    </tr>\n",
       "    <tr>\n",
       "      <th>25</th>\n",
       "      <td>801</td>\n",
       "      <td>NaN</td>\n",
       "      <td>NaN</td>\n",
       "      <td>NaN</td>\n",
       "      <td>NaN</td>\n",
       "      <td>-</td>\n",
       "    </tr>\n",
       "    <tr>\n",
       "      <th>26</th>\n",
       "      <td>802</td>\n",
       "      <td>NaN</td>\n",
       "      <td>NaN</td>\n",
       "      <td>NaN</td>\n",
       "      <td>NaN</td>\n",
       "      <td>-</td>\n",
       "    </tr>\n",
       "    <tr>\n",
       "      <th>27</th>\n",
       "      <td>803</td>\n",
       "      <td>NaN</td>\n",
       "      <td>NaN</td>\n",
       "      <td>NaN</td>\n",
       "      <td>NaN</td>\n",
       "      <td>-</td>\n",
       "    </tr>\n",
       "    <tr>\n",
       "      <th>28</th>\n",
       "      <td>804</td>\n",
       "      <td>NaN</td>\n",
       "      <td>NaN</td>\n",
       "      <td>NaN</td>\n",
       "      <td>NaN</td>\n",
       "      <td>-</td>\n",
       "    </tr>\n",
       "    <tr>\n",
       "      <th>29</th>\n",
       "      <td>805</td>\n",
       "      <td>NaN</td>\n",
       "      <td>NaN</td>\n",
       "      <td>NaN</td>\n",
       "      <td>NaN</td>\n",
       "      <td>-</td>\n",
       "    </tr>\n",
       "  </tbody>\n",
       "</table>\n",
       "</div>"
      ],
      "text/plain": [
       "   Full-flowering dates of Japanese cherry (Prunus jamasakura) at Kyoto, Japan. (Latest version, Jun. 12, 2012)  \\\n",
       "0                                                     This phenological data was acquired by following studies.   \n",
       "1                                                                                                           NaN   \n",
       "2                                                                                                Column A; A.D.   \n",
       "3                                                                  Column B; Full-flowering date (day of year).   \n",
       "4                                          Column C; Full-flowering date (calender date, e.g. 402 --> April 2).   \n",
       "5                                                                                         Column D; Source code   \n",
       "6                            1; Reported by Taguchi (1939), J. Marine Meteorol. Soc. (Umi to Sora), 19, 217-227   \n",
       "7                                            2; Added by Sekiguchi (1969), Tokyo Geography Papers, 13, 175-190.   \n",
       "8                                          3; Added by Aono and Omoto (1994), J. Agric. Meteorol., 49, 263-272.   \n",
       "9                    4; Added by Aono and Kazui (2008), Int. J. Climatol., 28, 905-914 (doi: 10.1002/joc.1594).   \n",
       "10              5: Cherry phenological data, Added by Aono and Saito (2010), Int. J. Biometeorol., 54, 211-219.   \n",
       "11                         6: Added by Aono (2011), Time Studies, 4, 17-29. (in Japanese with English abstract)   \n",
       "12                                             7: Added by Aono (2012), Chikyu Kankyo, 17, 21-29. (in Japanese)   \n",
       "13                                                             8: Found after the last publication of articles.   \n",
       "14                                                                                     Column E; Data type code   \n",
       "15                                                     0 : data from modern times (full-bloom date since 1880s)   \n",
       "16                                                                  1 : from diary description about full-bloom   \n",
       "17                                                2 : from diary description about cherry blossom viewing party   \n",
       "18                            3 : from diary description about presents of cherry twigs from party participants   \n",
       "19                                                                                  4 : title in Japanese poety   \n",
       "20                    8 : Deduced from wisteria phenology, using the relation proposed by Aono and Saito (2010)   \n",
       "21                       9 : Deduced from Japanese kerria phenology, using the relation proposed by Aono (2011)   \n",
       "22                                                                             Column F; Names of old documents   \n",
       "23                                                                                                          NaN   \n",
       "24                                                                                                           AD   \n",
       "25                                                                                                          801   \n",
       "26                                                                                                          802   \n",
       "27                                                                                                          803   \n",
       "28                                                                                                          804   \n",
       "29                                                                                                          805   \n",
       "\n",
       "                   Unnamed: 1           Unnamed: 2   Unnamed: 3  \\\n",
       "0                         NaN                  NaN          NaN   \n",
       "1                         NaN                  NaN          NaN   \n",
       "2                         NaN                  NaN          NaN   \n",
       "3                         NaN                  NaN          NaN   \n",
       "4                         NaN                  NaN          NaN   \n",
       "5                         NaN                  NaN          NaN   \n",
       "6                         NaN                  NaN          NaN   \n",
       "7                         NaN                  NaN          NaN   \n",
       "8                         NaN                  NaN          NaN   \n",
       "9                         NaN                  NaN          NaN   \n",
       "10                        NaN                  NaN          NaN   \n",
       "11                        NaN                  NaN          NaN   \n",
       "12                        NaN                  NaN          NaN   \n",
       "13                        NaN                  NaN          NaN   \n",
       "14                        NaN                  NaN          NaN   \n",
       "15                        NaN                  NaN          NaN   \n",
       "16                        NaN                  NaN          NaN   \n",
       "17                        NaN                  NaN          NaN   \n",
       "18                        NaN                  NaN          NaN   \n",
       "19                        NaN                  NaN          NaN   \n",
       "20                        NaN                  NaN          NaN   \n",
       "21                        NaN                  NaN          NaN   \n",
       "22                        NaN                  NaN          NaN   \n",
       "23                        NaN                  NaN          NaN   \n",
       "24  Full-flowering date (DOY)  Full-flowering date  Source code   \n",
       "25                        NaN                  NaN          NaN   \n",
       "26                        NaN                  NaN          NaN   \n",
       "27                        NaN                  NaN          NaN   \n",
       "28                        NaN                  NaN          NaN   \n",
       "29                        NaN                  NaN          NaN   \n",
       "\n",
       "        Unnamed: 4      Unnamed: 5  \n",
       "0              NaN             NaN  \n",
       "1              NaN             NaN  \n",
       "2              NaN             NaN  \n",
       "3              NaN             NaN  \n",
       "4              NaN             NaN  \n",
       "5              NaN             NaN  \n",
       "6              NaN             NaN  \n",
       "7              NaN             NaN  \n",
       "8              NaN             NaN  \n",
       "9              NaN             NaN  \n",
       "10             NaN             NaN  \n",
       "11             NaN             NaN  \n",
       "12             NaN             NaN  \n",
       "13             NaN             NaN  \n",
       "14             NaN             NaN  \n",
       "15             NaN             NaN  \n",
       "16             NaN             NaN  \n",
       "17             NaN             NaN  \n",
       "18             NaN             NaN  \n",
       "19             NaN             NaN  \n",
       "20             NaN             NaN  \n",
       "21             NaN             NaN  \n",
       "22             NaN             NaN  \n",
       "23             NaN             NaN  \n",
       "24  Data type code  Reference Name  \n",
       "25             NaN               -  \n",
       "26             NaN               -  \n",
       "27             NaN               -  \n",
       "28             NaN               -  \n",
       "29             NaN               -  "
      ]
     },
     "execution_count": 6,
     "metadata": {},
     "output_type": "execute_result"
    }
   ],
   "source": [
    "# checking first 30 rows\n",
    "df.head(30)"
   ]
  },
  {
   "cell_type": "markdown",
   "metadata": {},
   "source": [
    "## Date Data Frame Key"
   ]
  },
  {
   "cell_type": "code",
   "execution_count": 7,
   "metadata": {
    "execution": {
     "iopub.execute_input": "2021-09-30T05:03:10.783759Z",
     "iopub.status.busy": "2021-09-30T05:03:10.783556Z",
     "iopub.status.idle": "2021-09-30T05:03:10.808774Z",
     "shell.execute_reply": "2021-09-30T05:03:10.808053Z",
     "shell.execute_reply.started": "2021-09-30T05:03:10.783712Z"
    }
   },
   "outputs": [],
   "source": [
    "# setting data_key data frame \n",
    "key = df.iloc[0:23, 0:1].drop(1).reset_index(drop=True)"
   ]
  },
  {
   "cell_type": "code",
   "execution_count": 8,
   "metadata": {
    "execution": {
     "iopub.execute_input": "2021-09-30T05:03:10.812628Z",
     "iopub.status.busy": "2021-09-30T05:03:10.812391Z",
     "iopub.status.idle": "2021-09-30T05:03:10.845119Z",
     "shell.execute_reply": "2021-09-30T05:03:10.844149Z",
     "shell.execute_reply.started": "2021-09-30T05:03:10.812601Z"
    }
   },
   "outputs": [
    {
     "data": {
      "text/html": [
       "<div>\n",
       "<style scoped>\n",
       "    .dataframe tbody tr th:only-of-type {\n",
       "        vertical-align: middle;\n",
       "    }\n",
       "\n",
       "    .dataframe tbody tr th {\n",
       "        vertical-align: top;\n",
       "    }\n",
       "\n",
       "    .dataframe thead th {\n",
       "        text-align: right;\n",
       "    }\n",
       "</style>\n",
       "<table border=\"1\" class=\"dataframe\">\n",
       "  <thead>\n",
       "    <tr style=\"text-align: right;\">\n",
       "      <th></th>\n",
       "      <th>Full-flowering dates of Japanese cherry (Prunus jamasakura) at Kyoto, Japan. (Latest version, Jun. 12, 2012)</th>\n",
       "    </tr>\n",
       "  </thead>\n",
       "  <tbody>\n",
       "    <tr>\n",
       "      <th>0</th>\n",
       "      <td>This phenological data was acquired by following studies.</td>\n",
       "    </tr>\n",
       "    <tr>\n",
       "      <th>1</th>\n",
       "      <td>Column A; A.D.</td>\n",
       "    </tr>\n",
       "  </tbody>\n",
       "</table>\n",
       "</div>"
      ],
      "text/plain": [
       "  Full-flowering dates of Japanese cherry (Prunus jamasakura) at Kyoto, Japan. (Latest version, Jun. 12, 2012)\n",
       "0                                                    This phenological data was acquired by following studies.\n",
       "1                                                                                               Column A; A.D."
      ]
     },
     "execution_count": 8,
     "metadata": {},
     "output_type": "execute_result"
    }
   ],
   "source": [
    "# checking key\n",
    "key.head(2)"
   ]
  },
  {
   "cell_type": "markdown",
   "metadata": {},
   "source": [
    "## Wrangling the Data into a Useful Form"
   ]
  },
  {
   "cell_type": "code",
   "execution_count": 9,
   "metadata": {
    "execution": {
     "iopub.execute_input": "2021-09-30T05:03:10.847925Z",
     "iopub.status.busy": "2021-09-30T05:03:10.847508Z",
     "iopub.status.idle": "2021-09-30T05:03:10.878371Z",
     "shell.execute_reply": "2021-09-30T05:03:10.877622Z",
     "shell.execute_reply.started": "2021-09-30T05:03:10.847883Z"
    }
   },
   "outputs": [],
   "source": [
    "# setting column names from column_name row\n",
    "df.columns = df.iloc[24]\n",
    "\n",
    "# dropping data seperation rows and column_name row\n",
    "df = df.drop([1, 23, 24])\n",
    "\n",
    "# removing name from index\n",
    "df.columns.name = None\n",
    "\n",
    "# dropping nulls\n",
    "df.dropna(inplace=True)\n",
    "\n",
    "# reseting index\n",
    "df = df.reset_index(drop=True)"
   ]
  },
  {
   "cell_type": "code",
   "execution_count": 10,
   "metadata": {
    "execution": {
     "iopub.execute_input": "2021-09-30T05:03:10.879658Z",
     "iopub.status.busy": "2021-09-30T05:03:10.879404Z",
     "iopub.status.idle": "2021-09-30T05:03:10.912483Z",
     "shell.execute_reply": "2021-09-30T05:03:10.911934Z",
     "shell.execute_reply.started": "2021-09-30T05:03:10.879632Z"
    }
   },
   "outputs": [
    {
     "data": {
      "text/html": [
       "<div>\n",
       "<style scoped>\n",
       "    .dataframe tbody tr th:only-of-type {\n",
       "        vertical-align: middle;\n",
       "    }\n",
       "\n",
       "    .dataframe tbody tr th {\n",
       "        vertical-align: top;\n",
       "    }\n",
       "\n",
       "    .dataframe thead th {\n",
       "        text-align: right;\n",
       "    }\n",
       "</style>\n",
       "<table border=\"1\" class=\"dataframe\">\n",
       "  <thead>\n",
       "    <tr style=\"text-align: right;\">\n",
       "      <th></th>\n",
       "      <th>AD</th>\n",
       "      <th>Full-flowering date (DOY)</th>\n",
       "      <th>Full-flowering date</th>\n",
       "      <th>Source code</th>\n",
       "      <th>Data type code</th>\n",
       "      <th>Reference Name</th>\n",
       "    </tr>\n",
       "  </thead>\n",
       "  <tbody>\n",
       "    <tr>\n",
       "      <th>0</th>\n",
       "      <td>812</td>\n",
       "      <td>92</td>\n",
       "      <td>401</td>\n",
       "      <td>1</td>\n",
       "      <td>2</td>\n",
       "      <td>NIHON-KOKI</td>\n",
       "    </tr>\n",
       "    <tr>\n",
       "      <th>1</th>\n",
       "      <td>815</td>\n",
       "      <td>105</td>\n",
       "      <td>415</td>\n",
       "      <td>1</td>\n",
       "      <td>2</td>\n",
       "      <td>NIHON-KOKI</td>\n",
       "    </tr>\n",
       "    <tr>\n",
       "      <th>2</th>\n",
       "      <td>831</td>\n",
       "      <td>96</td>\n",
       "      <td>406</td>\n",
       "      <td>1</td>\n",
       "      <td>2</td>\n",
       "      <td>NIHON-KOKI</td>\n",
       "    </tr>\n",
       "    <tr>\n",
       "      <th>3</th>\n",
       "      <td>851</td>\n",
       "      <td>108</td>\n",
       "      <td>418</td>\n",
       "      <td>1</td>\n",
       "      <td>2</td>\n",
       "      <td>MONTOKUTENNO-JITSUROKU</td>\n",
       "    </tr>\n",
       "    <tr>\n",
       "      <th>4</th>\n",
       "      <td>853</td>\n",
       "      <td>104</td>\n",
       "      <td>414</td>\n",
       "      <td>1</td>\n",
       "      <td>2</td>\n",
       "      <td>MONTOKUTENNO-JITSUROKU</td>\n",
       "    </tr>\n",
       "  </tbody>\n",
       "</table>\n",
       "</div>"
      ],
      "text/plain": [
       "    AD Full-flowering date (DOY) Full-flowering date Source code  \\\n",
       "0  812                        92                 401           1   \n",
       "1  815                       105                 415           1   \n",
       "2  831                        96                 406           1   \n",
       "3  851                       108                 418           1   \n",
       "4  853                       104                 414           1   \n",
       "\n",
       "  Data type code          Reference Name  \n",
       "0              2              NIHON-KOKI  \n",
       "1              2              NIHON-KOKI  \n",
       "2              2              NIHON-KOKI  \n",
       "3              2  MONTOKUTENNO-JITSUROKU  \n",
       "4              2  MONTOKUTENNO-JITSUROKU  "
      ]
     },
     "execution_count": 10,
     "metadata": {},
     "output_type": "execute_result"
    }
   ],
   "source": [
    "# checking work\n",
    "df.head()"
   ]
  },
  {
   "cell_type": "markdown",
   "metadata": {},
   "source": [
    "## Data Cleaning"
   ]
  },
  {
   "cell_type": "code",
   "execution_count": 11,
   "metadata": {
    "execution": {
     "iopub.execute_input": "2021-09-30T05:03:10.913633Z",
     "iopub.status.busy": "2021-09-30T05:03:10.913450Z",
     "iopub.status.idle": "2021-09-30T05:03:10.947838Z",
     "shell.execute_reply": "2021-09-30T05:03:10.946376Z",
     "shell.execute_reply.started": "2021-09-30T05:03:10.913610Z"
    }
   },
   "outputs": [
    {
     "name": "stdout",
     "output_type": "stream",
     "text": [
      "<class 'pandas.core.frame.DataFrame'>\n",
      "RangeIndex: 825 entries, 0 to 824\n",
      "Data columns (total 6 columns):\n",
      " #   Column                     Non-Null Count  Dtype \n",
      "---  ------                     --------------  ----- \n",
      " 0   AD                         825 non-null    object\n",
      " 1   Full-flowering date (DOY)  825 non-null    object\n",
      " 2   Full-flowering date        825 non-null    object\n",
      " 3   Source code                825 non-null    object\n",
      " 4   Data type code             825 non-null    object\n",
      " 5   Reference Name             825 non-null    object\n",
      "dtypes: object(6)\n",
      "memory usage: 38.8+ KB\n"
     ]
    }
   ],
   "source": [
    "# checking datatypes\n",
    "df.info()"
   ]
  },
  {
   "cell_type": "code",
   "execution_count": 12,
   "metadata": {
    "execution": {
     "iopub.execute_input": "2021-09-30T05:03:10.949309Z",
     "iopub.status.busy": "2021-09-30T05:03:10.949129Z",
     "iopub.status.idle": "2021-09-30T05:03:10.979546Z",
     "shell.execute_reply": "2021-09-30T05:03:10.978501Z",
     "shell.execute_reply.started": "2021-09-30T05:03:10.949286Z"
    }
   },
   "outputs": [],
   "source": [
    "# converting strings to ints\n",
    "strings = ['AD', 'Full-flowering date (DOY)', 'Full-flowering date']\n",
    "df[strings] = df[strings].apply(pd.to_numeric)"
   ]
  },
  {
   "cell_type": "markdown",
   "metadata": {},
   "source": [
    "## Scatter Plot: Full-flowering Day by Year"
   ]
  },
  {
   "cell_type": "code",
   "execution_count": 13,
   "metadata": {
    "execution": {
     "iopub.execute_input": "2021-09-30T05:03:10.981721Z",
     "iopub.status.busy": "2021-09-30T05:03:10.981312Z",
     "iopub.status.idle": "2021-09-30T05:03:11.176401Z",
     "shell.execute_reply": "2021-09-30T05:03:11.175529Z",
     "shell.execute_reply.started": "2021-09-30T05:03:10.981660Z"
    },
    "tags": []
   },
   "outputs": [
    {
     "data": {
      "image/png": "[encoded data removed]",
      "text/plain": [
       "<Figure size 1080x504 with 1 Axes>"
      ]
     },
     "metadata": {},
     "output_type": "display_data"
    }
   ],
   "source": [
    "df.plot.scatter(x='AD', y='Full-flowering date (DOY)', color='lightpink', figsize=(15,7));"
   ]
  },
  {
   "cell_type": "markdown",
   "metadata": {},
   "source": [
    "## Feature Engineering"
   ]
  },
  {
   "cell_type": "code",
   "execution_count": 14,
   "metadata": {
    "execution": {
     "iopub.execute_input": "2021-09-30T05:03:11.178067Z",
     "iopub.status.busy": "2021-09-30T05:03:11.177904Z",
     "iopub.status.idle": "2021-09-30T05:03:11.206573Z",
     "shell.execute_reply": "2021-09-30T05:03:11.205896Z",
     "shell.execute_reply.started": "2021-09-30T05:03:11.178048Z"
    }
   },
   "outputs": [],
   "source": [
    "# adding 5-year moving average feature\n",
    "df['5_Year_Ave'] = df['Full-flowering date (DOY)'].rolling(5).mean()"
   ]
  },
  {
   "cell_type": "code",
   "execution_count": 15,
   "metadata": {
    "execution": {
     "iopub.execute_input": "2021-09-30T05:03:11.208312Z",
     "iopub.status.busy": "2021-09-30T05:03:11.207962Z",
     "iopub.status.idle": "2021-09-30T05:03:11.235097Z",
     "shell.execute_reply": "2021-09-30T05:03:11.234459Z",
     "shell.execute_reply.started": "2021-09-30T05:03:11.208275Z"
    }
   },
   "outputs": [],
   "source": [
    "# adding a mean peak value column\n",
    "df['Mean Peak'] = df['Full-flowering date (DOY)'].mean()"
   ]
  },
  {
   "cell_type": "markdown",
   "metadata": {},
   "source": [
    "## Checking Work"
   ]
  },
  {
   "cell_type": "code",
   "execution_count": 16,
   "metadata": {
    "execution": {
     "iopub.execute_input": "2021-09-30T05:03:11.236728Z",
     "iopub.status.busy": "2021-09-30T05:03:11.236508Z",
     "iopub.status.idle": "2021-09-30T05:03:11.277562Z",
     "shell.execute_reply": "2021-09-30T05:03:11.276839Z",
     "shell.execute_reply.started": "2021-09-30T05:03:11.236708Z"
    },
    "tags": []
   },
   "outputs": [
    {
     "name": "stdout",
     "output_type": "stream",
     "text": [
      "<class 'pandas.core.frame.DataFrame'>\n",
      "RangeIndex: 825 entries, 0 to 824\n",
      "Data columns (total 8 columns):\n",
      " #   Column                     Non-Null Count  Dtype  \n",
      "---  ------                     --------------  -----  \n",
      " 0   AD                         825 non-null    int64  \n",
      " 1   Full-flowering date (DOY)  825 non-null    int64  \n",
      " 2   Full-flowering date        825 non-null    int64  \n",
      " 3   Source code                825 non-null    object \n",
      " 4   Data type code             825 non-null    object \n",
      " 5   Reference Name             825 non-null    object \n",
      " 6   5_Year_Ave                 821 non-null    float64\n",
      " 7   Mean Peak                  825 non-null    float64\n",
      "dtypes: float64(2), int64(3), object(3)\n",
      "memory usage: 51.7+ KB\n",
      "None\n"
     ]
    },
    {
     "data": {
      "text/html": [
       "<div>\n",
       "<style scoped>\n",
       "    .dataframe tbody tr th:only-of-type {\n",
       "        vertical-align: middle;\n",
       "    }\n",
       "\n",
       "    .dataframe tbody tr th {\n",
       "        vertical-align: top;\n",
       "    }\n",
       "\n",
       "    .dataframe thead th {\n",
       "        text-align: right;\n",
       "    }\n",
       "</style>\n",
       "<table border=\"1\" class=\"dataframe\">\n",
       "  <thead>\n",
       "    <tr style=\"text-align: right;\">\n",
       "      <th></th>\n",
       "      <th>AD</th>\n",
       "      <th>Full-flowering date (DOY)</th>\n",
       "      <th>Full-flowering date</th>\n",
       "      <th>Source code</th>\n",
       "      <th>Data type code</th>\n",
       "      <th>Reference Name</th>\n",
       "      <th>5_Year_Ave</th>\n",
       "      <th>Mean Peak</th>\n",
       "    </tr>\n",
       "  </thead>\n",
       "  <tbody>\n",
       "    <tr>\n",
       "      <th>0</th>\n",
       "      <td>812</td>\n",
       "      <td>92</td>\n",
       "      <td>401</td>\n",
       "      <td>1</td>\n",
       "      <td>2</td>\n",
       "      <td>NIHON-KOKI</td>\n",
       "      <td>NaN</td>\n",
       "      <td>104.556364</td>\n",
       "    </tr>\n",
       "    <tr>\n",
       "      <th>1</th>\n",
       "      <td>815</td>\n",
       "      <td>105</td>\n",
       "      <td>415</td>\n",
       "      <td>1</td>\n",
       "      <td>2</td>\n",
       "      <td>NIHON-KOKI</td>\n",
       "      <td>NaN</td>\n",
       "      <td>104.556364</td>\n",
       "    </tr>\n",
       "    <tr>\n",
       "      <th>2</th>\n",
       "      <td>831</td>\n",
       "      <td>96</td>\n",
       "      <td>406</td>\n",
       "      <td>1</td>\n",
       "      <td>2</td>\n",
       "      <td>NIHON-KOKI</td>\n",
       "      <td>NaN</td>\n",
       "      <td>104.556364</td>\n",
       "    </tr>\n",
       "    <tr>\n",
       "      <th>3</th>\n",
       "      <td>851</td>\n",
       "      <td>108</td>\n",
       "      <td>418</td>\n",
       "      <td>1</td>\n",
       "      <td>2</td>\n",
       "      <td>MONTOKUTENNO-JITSUROKU</td>\n",
       "      <td>NaN</td>\n",
       "      <td>104.556364</td>\n",
       "    </tr>\n",
       "    <tr>\n",
       "      <th>4</th>\n",
       "      <td>853</td>\n",
       "      <td>104</td>\n",
       "      <td>414</td>\n",
       "      <td>1</td>\n",
       "      <td>2</td>\n",
       "      <td>MONTOKUTENNO-JITSUROKU</td>\n",
       "      <td>101.0</td>\n",
       "      <td>104.556364</td>\n",
       "    </tr>\n",
       "  </tbody>\n",
       "</table>\n",
       "</div>"
      ],
      "text/plain": [
       "    AD  Full-flowering date (DOY)  Full-flowering date Source code  \\\n",
       "0  812                         92                  401           1   \n",
       "1  815                        105                  415           1   \n",
       "2  831                         96                  406           1   \n",
       "3  851                        108                  418           1   \n",
       "4  853                        104                  414           1   \n",
       "\n",
       "  Data type code          Reference Name  5_Year_Ave   Mean Peak  \n",
       "0              2              NIHON-KOKI         NaN  104.556364  \n",
       "1              2              NIHON-KOKI         NaN  104.556364  \n",
       "2              2              NIHON-KOKI         NaN  104.556364  \n",
       "3              2  MONTOKUTENNO-JITSUROKU         NaN  104.556364  \n",
       "4              2  MONTOKUTENNO-JITSUROKU       101.0  104.556364  "
      ]
     },
     "execution_count": 16,
     "metadata": {},
     "output_type": "execute_result"
    }
   ],
   "source": [
    "# checking work\n",
    "print(df.info())\n",
    "df.head()"
   ]
  },
  {
   "cell_type": "markdown",
   "metadata": {},
   "source": [
    "# Temperature Data Frame"
   ]
  },
  {
   "cell_type": "code",
   "execution_count": 17,
   "metadata": {
    "execution": {
     "iopub.execute_input": "2021-09-30T05:03:11.278637Z",
     "iopub.status.busy": "2021-09-30T05:03:11.278485Z",
     "iopub.status.idle": "2021-09-30T05:03:11.312780Z",
     "shell.execute_reply": "2021-09-30T05:03:11.312243Z",
     "shell.execute_reply.started": "2021-09-30T05:03:11.278616Z"
    }
   },
   "outputs": [
    {
     "data": {
      "text/html": [
       "<div>\n",
       "<style scoped>\n",
       "    .dataframe tbody tr th:only-of-type {\n",
       "        vertical-align: middle;\n",
       "    }\n",
       "\n",
       "    .dataframe tbody tr th {\n",
       "        vertical-align: top;\n",
       "    }\n",
       "\n",
       "    .dataframe thead th {\n",
       "        text-align: right;\n",
       "    }\n",
       "</style>\n",
       "<table border=\"1\" class=\"dataframe\">\n",
       "  <thead>\n",
       "    <tr style=\"text-align: right;\">\n",
       "      <th></th>\n",
       "      <th>TempReconst7Final.xls</th>\n",
       "      <th>Unnamed: 1</th>\n",
       "      <th>Unnamed: 2</th>\n",
       "      <th>Unnamed: 3</th>\n",
       "      <th>Unnamed: 4</th>\n",
       "      <th>Unnamed: 5</th>\n",
       "      <th>Unnamed: 6</th>\n",
       "    </tr>\n",
       "  </thead>\n",
       "  <tbody>\n",
       "    <tr>\n",
       "      <th>0</th>\n",
       "      <td>Reconstructed value of March mean temperature at Kyoto City</td>\n",
       "      <td>NaN</td>\n",
       "      <td>NaN</td>\n",
       "      <td>NaN</td>\n",
       "      <td>NaN</td>\n",
       "      <td>NaN</td>\n",
       "      <td>NaN</td>\n",
       "    </tr>\n",
       "    <tr>\n",
       "      <th>1</th>\n",
       "      <td>801-1400 A.D. : Aono and Saito (2010): International Journal of Biometeorology, 54, 211-219</td>\n",
       "      <td>NaN</td>\n",
       "      <td>NaN</td>\n",
       "      <td>NaN</td>\n",
       "      <td>NaN</td>\n",
       "      <td>NaN</td>\n",
       "      <td>NaN</td>\n",
       "    </tr>\n",
       "    <tr>\n",
       "      <th>2</th>\n",
       "      <td>1401-1990 A.D. : Aono and Kazui (2008): International Journal of Climatology, 28, 905-914</td>\n",
       "      <td>NaN</td>\n",
       "      <td>NaN</td>\n",
       "      <td>NaN</td>\n",
       "      <td>NaN</td>\n",
       "      <td>NaN</td>\n",
       "      <td>NaN</td>\n",
       "    </tr>\n",
       "    <tr>\n",
       "      <th>3</th>\n",
       "      <td>Partly modified by Aono (2012): Chikyu Kankyo (Global Environment), 17, 21-29</td>\n",
       "      <td>NaN</td>\n",
       "      <td>NaN</td>\n",
       "      <td>NaN</td>\n",
       "      <td>NaN</td>\n",
       "      <td>NaN</td>\n",
       "      <td>NaN</td>\n",
       "    </tr>\n",
       "    <tr>\n",
       "      <th>4</th>\n",
       "      <td>NaN</td>\n",
       "      <td>NaN</td>\n",
       "      <td>NaN</td>\n",
       "      <td>NaN</td>\n",
       "      <td>NaN</td>\n",
       "      <td>NaN</td>\n",
       "      <td>NaN</td>\n",
       "    </tr>\n",
       "    <tr>\n",
       "      <th>5</th>\n",
       "      <td>Column B; Reconstructed temperature deduced from 5 or more years phenological data in each 31-year time span used for smoothing by local linear regression.</td>\n",
       "      <td>NaN</td>\n",
       "      <td>NaN</td>\n",
       "      <td>NaN</td>\n",
       "      <td>NaN</td>\n",
       "      <td>NaN</td>\n",
       "      <td>NaN</td>\n",
       "    </tr>\n",
       "    <tr>\n",
       "      <th>6</th>\n",
       "      <td>Column C; upper limit of 95% confidence intervals in smoothing procedure for temperature estimates.</td>\n",
       "      <td>NaN</td>\n",
       "      <td>NaN</td>\n",
       "      <td>NaN</td>\n",
       "      <td>NaN</td>\n",
       "      <td>NaN</td>\n",
       "      <td>NaN</td>\n",
       "    </tr>\n",
       "    <tr>\n",
       "      <th>7</th>\n",
       "      <td>Column D; lower limit of 95% confidence intervals in smoothing procedure for temperature estimates.</td>\n",
       "      <td>NaN</td>\n",
       "      <td>NaN</td>\n",
       "      <td>NaN</td>\n",
       "      <td>NaN</td>\n",
       "      <td>NaN</td>\n",
       "      <td>NaN</td>\n",
       "    </tr>\n",
       "    <tr>\n",
       "      <th>8</th>\n",
       "      <td>Column E; observed temperature, smoothed by same procedure for temperature estimates.</td>\n",
       "      <td>NaN</td>\n",
       "      <td>NaN</td>\n",
       "      <td>NaN</td>\n",
       "      <td>NaN</td>\n",
       "      <td>NaN</td>\n",
       "      <td>NaN</td>\n",
       "    </tr>\n",
       "    <tr>\n",
       "      <th>9</th>\n",
       "      <td>Column F; Urban warming bias was obscured (Using Hikone weather station as a control site).</td>\n",
       "      <td>NaN</td>\n",
       "      <td>NaN</td>\n",
       "      <td>NaN</td>\n",
       "      <td>NaN</td>\n",
       "      <td>NaN</td>\n",
       "      <td>NaN</td>\n",
       "    </tr>\n",
       "    <tr>\n",
       "      <th>10</th>\n",
       "      <td>Column G; Same as Column F, except for using Kameoka weather station as a control site..</td>\n",
       "      <td>NaN</td>\n",
       "      <td>NaN</td>\n",
       "      <td>NaN</td>\n",
       "      <td>NaN</td>\n",
       "      <td>NaN</td>\n",
       "      <td>NaN</td>\n",
       "    </tr>\n",
       "    <tr>\n",
       "      <th>11</th>\n",
       "      <td>NaN</td>\n",
       "      <td>NaN</td>\n",
       "      <td>NaN</td>\n",
       "      <td>NaN</td>\n",
       "      <td>NaN</td>\n",
       "      <td>NaN</td>\n",
       "      <td>NaN</td>\n",
       "    </tr>\n",
       "    <tr>\n",
       "      <th>12</th>\n",
       "      <td>-50.00 means no data or gap of temperature estimations.</td>\n",
       "      <td>NaN</td>\n",
       "      <td>NaN</td>\n",
       "      <td>NaN</td>\n",
       "      <td>NaN</td>\n",
       "      <td>NaN</td>\n",
       "      <td>NaN</td>\n",
       "    </tr>\n",
       "    <tr>\n",
       "      <th>13</th>\n",
       "      <td>NaN</td>\n",
       "      <td>NaN</td>\n",
       "      <td>NaN</td>\n",
       "      <td>NaN</td>\n",
       "      <td>NaN</td>\n",
       "      <td>NaN</td>\n",
       "      <td>NaN</td>\n",
       "    </tr>\n",
       "    <tr>\n",
       "      <th>14</th>\n",
       "      <td>NaN</td>\n",
       "      <td>NaN</td>\n",
       "      <td>NaN</td>\n",
       "      <td>NaN</td>\n",
       "      <td>NaN</td>\n",
       "      <td>NaN</td>\n",
       "      <td>NaN</td>\n",
       "    </tr>\n",
       "    <tr>\n",
       "      <th>15</th>\n",
       "      <td>AD</td>\n",
       "      <td>Estimated temperature</td>\n",
       "      <td>Upper limit</td>\n",
       "      <td>Lower limit</td>\n",
       "      <td>Observed temperature</td>\n",
       "      <td>Urban bias was subtracted (Hikone)</td>\n",
       "      <td>Urban bias was subtracted (Kameoka)</td>\n",
       "    </tr>\n",
       "    <tr>\n",
       "      <th>16</th>\n",
       "      <td>816</td>\n",
       "      <td>-50</td>\n",
       "      <td>-50</td>\n",
       "      <td>-50</td>\n",
       "      <td>-50</td>\n",
       "      <td>-50</td>\n",
       "      <td>-50</td>\n",
       "    </tr>\n",
       "    <tr>\n",
       "      <th>17</th>\n",
       "      <td>817</td>\n",
       "      <td>-50</td>\n",
       "      <td>-50</td>\n",
       "      <td>-50</td>\n",
       "      <td>-50</td>\n",
       "      <td>-50</td>\n",
       "      <td>-50</td>\n",
       "    </tr>\n",
       "    <tr>\n",
       "      <th>18</th>\n",
       "      <td>818</td>\n",
       "      <td>-50</td>\n",
       "      <td>-50</td>\n",
       "      <td>-50</td>\n",
       "      <td>-50</td>\n",
       "      <td>-50</td>\n",
       "      <td>-50</td>\n",
       "    </tr>\n",
       "    <tr>\n",
       "      <th>19</th>\n",
       "      <td>819</td>\n",
       "      <td>-50</td>\n",
       "      <td>-50</td>\n",
       "      <td>-50</td>\n",
       "      <td>-50</td>\n",
       "      <td>-50</td>\n",
       "      <td>-50</td>\n",
       "    </tr>\n",
       "    <tr>\n",
       "      <th>20</th>\n",
       "      <td>820</td>\n",
       "      <td>-50</td>\n",
       "      <td>-50</td>\n",
       "      <td>-50</td>\n",
       "      <td>-50</td>\n",
       "      <td>-50</td>\n",
       "      <td>-50</td>\n",
       "    </tr>\n",
       "    <tr>\n",
       "      <th>21</th>\n",
       "      <td>821</td>\n",
       "      <td>-50</td>\n",
       "      <td>-50</td>\n",
       "      <td>-50</td>\n",
       "      <td>-50</td>\n",
       "      <td>-50</td>\n",
       "      <td>-50</td>\n",
       "    </tr>\n",
       "    <tr>\n",
       "      <th>22</th>\n",
       "      <td>822</td>\n",
       "      <td>-50</td>\n",
       "      <td>-50</td>\n",
       "      <td>-50</td>\n",
       "      <td>-50</td>\n",
       "      <td>-50</td>\n",
       "      <td>-50</td>\n",
       "    </tr>\n",
       "    <tr>\n",
       "      <th>23</th>\n",
       "      <td>823</td>\n",
       "      <td>-50</td>\n",
       "      <td>-50</td>\n",
       "      <td>-50</td>\n",
       "      <td>-50</td>\n",
       "      <td>-50</td>\n",
       "      <td>-50</td>\n",
       "    </tr>\n",
       "    <tr>\n",
       "      <th>24</th>\n",
       "      <td>824</td>\n",
       "      <td>-50</td>\n",
       "      <td>-50</td>\n",
       "      <td>-50</td>\n",
       "      <td>-50</td>\n",
       "      <td>-50</td>\n",
       "      <td>-50</td>\n",
       "    </tr>\n",
       "    <tr>\n",
       "      <th>25</th>\n",
       "      <td>825</td>\n",
       "      <td>-50</td>\n",
       "      <td>-50</td>\n",
       "      <td>-50</td>\n",
       "      <td>-50</td>\n",
       "      <td>-50</td>\n",
       "      <td>-50</td>\n",
       "    </tr>\n",
       "    <tr>\n",
       "      <th>26</th>\n",
       "      <td>826</td>\n",
       "      <td>-50</td>\n",
       "      <td>-50</td>\n",
       "      <td>-50</td>\n",
       "      <td>-50</td>\n",
       "      <td>-50</td>\n",
       "      <td>-50</td>\n",
       "    </tr>\n",
       "    <tr>\n",
       "      <th>27</th>\n",
       "      <td>827</td>\n",
       "      <td>-50</td>\n",
       "      <td>-50</td>\n",
       "      <td>-50</td>\n",
       "      <td>-50</td>\n",
       "      <td>-50</td>\n",
       "      <td>-50</td>\n",
       "    </tr>\n",
       "    <tr>\n",
       "      <th>28</th>\n",
       "      <td>828</td>\n",
       "      <td>-50</td>\n",
       "      <td>-50</td>\n",
       "      <td>-50</td>\n",
       "      <td>-50</td>\n",
       "      <td>-50</td>\n",
       "      <td>-50</td>\n",
       "    </tr>\n",
       "    <tr>\n",
       "      <th>29</th>\n",
       "      <td>829</td>\n",
       "      <td>-50</td>\n",
       "      <td>-50</td>\n",
       "      <td>-50</td>\n",
       "      <td>-50</td>\n",
       "      <td>-50</td>\n",
       "      <td>-50</td>\n",
       "    </tr>\n",
       "  </tbody>\n",
       "</table>\n",
       "</div>"
      ],
      "text/plain": [
       "                                                                                                                                          TempReconst7Final.xls  \\\n",
       "0                                                                                                   Reconstructed value of March mean temperature at Kyoto City   \n",
       "1                                                                   801-1400 A.D. : Aono and Saito (2010): International Journal of Biometeorology, 54, 211-219   \n",
       "2                                                                     1401-1990 A.D. : Aono and Kazui (2008): International Journal of Climatology, 28, 905-914   \n",
       "3                                                                                 Partly modified by Aono (2012): Chikyu Kankyo (Global Environment), 17, 21-29   \n",
       "4                                                                                                                                                           NaN   \n",
       "5   Column B; Reconstructed temperature deduced from 5 or more years phenological data in each 31-year time span used for smoothing by local linear regression.   \n",
       "6                                                           Column C; upper limit of 95% confidence intervals in smoothing procedure for temperature estimates.   \n",
       "7                                                           Column D; lower limit of 95% confidence intervals in smoothing procedure for temperature estimates.   \n",
       "8                                                                         Column E; observed temperature, smoothed by same procedure for temperature estimates.   \n",
       "9                                                                   Column F; Urban warming bias was obscured (Using Hikone weather station as a control site).   \n",
       "10                                                                     Column G; Same as Column F, except for using Kameoka weather station as a control site..   \n",
       "11                                                                                                                                                          NaN   \n",
       "12                                                                                                      -50.00 means no data or gap of temperature estimations.   \n",
       "13                                                                                                                                                          NaN   \n",
       "14                                                                                                                                                          NaN   \n",
       "15                                                                                                                                                           AD   \n",
       "16                                                                                                                                                          816   \n",
       "17                                                                                                                                                          817   \n",
       "18                                                                                                                                                          818   \n",
       "19                                                                                                                                                          819   \n",
       "20                                                                                                                                                          820   \n",
       "21                                                                                                                                                          821   \n",
       "22                                                                                                                                                          822   \n",
       "23                                                                                                                                                          823   \n",
       "24                                                                                                                                                          824   \n",
       "25                                                                                                                                                          825   \n",
       "26                                                                                                                                                          826   \n",
       "27                                                                                                                                                          827   \n",
       "28                                                                                                                                                          828   \n",
       "29                                                                                                                                                          829   \n",
       "\n",
       "               Unnamed: 1   Unnamed: 2   Unnamed: 3            Unnamed: 4  \\\n",
       "0                     NaN          NaN          NaN                   NaN   \n",
       "1                     NaN          NaN          NaN                   NaN   \n",
       "2                     NaN          NaN          NaN                   NaN   \n",
       "3                     NaN          NaN          NaN                   NaN   \n",
       "4                     NaN          NaN          NaN                   NaN   \n",
       "5                     NaN          NaN          NaN                   NaN   \n",
       "6                     NaN          NaN          NaN                   NaN   \n",
       "7                     NaN          NaN          NaN                   NaN   \n",
       "8                     NaN          NaN          NaN                   NaN   \n",
       "9                     NaN          NaN          NaN                   NaN   \n",
       "10                    NaN          NaN          NaN                   NaN   \n",
       "11                    NaN          NaN          NaN                   NaN   \n",
       "12                    NaN          NaN          NaN                   NaN   \n",
       "13                    NaN          NaN          NaN                   NaN   \n",
       "14                    NaN          NaN          NaN                   NaN   \n",
       "15  Estimated temperature  Upper limit  Lower limit  Observed temperature   \n",
       "16                    -50          -50          -50                   -50   \n",
       "17                    -50          -50          -50                   -50   \n",
       "18                    -50          -50          -50                   -50   \n",
       "19                    -50          -50          -50                   -50   \n",
       "20                    -50          -50          -50                   -50   \n",
       "21                    -50          -50          -50                   -50   \n",
       "22                    -50          -50          -50                   -50   \n",
       "23                    -50          -50          -50                   -50   \n",
       "24                    -50          -50          -50                   -50   \n",
       "25                    -50          -50          -50                   -50   \n",
       "26                    -50          -50          -50                   -50   \n",
       "27                    -50          -50          -50                   -50   \n",
       "28                    -50          -50          -50                   -50   \n",
       "29                    -50          -50          -50                   -50   \n",
       "\n",
       "                            Unnamed: 5                           Unnamed: 6  \n",
       "0                                  NaN                                  NaN  \n",
       "1                                  NaN                                  NaN  \n",
       "2                                  NaN                                  NaN  \n",
       "3                                  NaN                                  NaN  \n",
       "4                                  NaN                                  NaN  \n",
       "5                                  NaN                                  NaN  \n",
       "6                                  NaN                                  NaN  \n",
       "7                                  NaN                                  NaN  \n",
       "8                                  NaN                                  NaN  \n",
       "9                                  NaN                                  NaN  \n",
       "10                                 NaN                                  NaN  \n",
       "11                                 NaN                                  NaN  \n",
       "12                                 NaN                                  NaN  \n",
       "13                                 NaN                                  NaN  \n",
       "14                                 NaN                                  NaN  \n",
       "15  Urban bias was subtracted (Hikone)  Urban bias was subtracted (Kameoka)  \n",
       "16                                 -50                                  -50  \n",
       "17                                 -50                                  -50  \n",
       "18                                 -50                                  -50  \n",
       "19                                 -50                                  -50  \n",
       "20                                 -50                                  -50  \n",
       "21                                 -50                                  -50  \n",
       "22                                 -50                                  -50  \n",
       "23                                 -50                                  -50  \n",
       "24                                 -50                                  -50  \n",
       "25                                 -50                                  -50  \n",
       "26                                 -50                                  -50  \n",
       "27                                 -50                                  -50  \n",
       "28                                 -50                                  -50  \n",
       "29                                 -50                                  -50  "
      ]
     },
     "execution_count": 17,
     "metadata": {},
     "output_type": "execute_result"
    }
   ],
   "source": [
    "# checking temp data\n",
    "temp.head(30)"
   ]
  },
  {
   "cell_type": "markdown",
   "metadata": {},
   "source": [
    "## Temp Data Frame Key"
   ]
  },
  {
   "cell_type": "code",
   "execution_count": 18,
   "metadata": {
    "execution": {
     "iopub.execute_input": "2021-09-30T05:03:11.314875Z",
     "iopub.status.busy": "2021-09-30T05:03:11.314340Z",
     "iopub.status.idle": "2021-09-30T05:03:11.344853Z",
     "shell.execute_reply": "2021-09-30T05:03:11.344192Z",
     "shell.execute_reply.started": "2021-09-30T05:03:11.314841Z"
    }
   },
   "outputs": [],
   "source": [
    "# getting temp data key\n",
    "temp_key = temp.iloc[0:12, 0:1].drop([4,11]).reset_index(drop=True)"
   ]
  },
  {
   "cell_type": "code",
   "execution_count": 19,
   "metadata": {
    "execution": {
     "iopub.execute_input": "2021-09-30T05:03:11.346178Z",
     "iopub.status.busy": "2021-09-30T05:03:11.345874Z",
     "iopub.status.idle": "2021-09-30T05:03:11.384297Z",
     "shell.execute_reply": "2021-09-30T05:03:11.383263Z",
     "shell.execute_reply.started": "2021-09-30T05:03:11.346150Z"
    }
   },
   "outputs": [
    {
     "data": {
      "text/html": [
       "<div>\n",
       "<style scoped>\n",
       "    .dataframe tbody tr th:only-of-type {\n",
       "        vertical-align: middle;\n",
       "    }\n",
       "\n",
       "    .dataframe tbody tr th {\n",
       "        vertical-align: top;\n",
       "    }\n",
       "\n",
       "    .dataframe thead th {\n",
       "        text-align: right;\n",
       "    }\n",
       "</style>\n",
       "<table border=\"1\" class=\"dataframe\">\n",
       "  <thead>\n",
       "    <tr style=\"text-align: right;\">\n",
       "      <th></th>\n",
       "      <th>TempReconst7Final.xls</th>\n",
       "    </tr>\n",
       "  </thead>\n",
       "  <tbody>\n",
       "    <tr>\n",
       "      <th>0</th>\n",
       "      <td>Reconstructed value of March mean temperature at Kyoto City</td>\n",
       "    </tr>\n",
       "    <tr>\n",
       "      <th>1</th>\n",
       "      <td>801-1400 A.D. : Aono and Saito (2010): International Journal of Biometeorology, 54, 211-219</td>\n",
       "    </tr>\n",
       "    <tr>\n",
       "      <th>2</th>\n",
       "      <td>1401-1990 A.D. : Aono and Kazui (2008): International Journal of Climatology, 28, 905-914</td>\n",
       "    </tr>\n",
       "    <tr>\n",
       "      <th>3</th>\n",
       "      <td>Partly modified by Aono (2012): Chikyu Kankyo (Global Environment), 17, 21-29</td>\n",
       "    </tr>\n",
       "    <tr>\n",
       "      <th>4</th>\n",
       "      <td>Column B; Reconstructed temperature deduced from 5 or more years phenological data in each 31-year time span used for smoothing by local linear regression.</td>\n",
       "    </tr>\n",
       "    <tr>\n",
       "      <th>5</th>\n",
       "      <td>Column C; upper limit of 95% confidence intervals in smoothing procedure for temperature estimates.</td>\n",
       "    </tr>\n",
       "    <tr>\n",
       "      <th>6</th>\n",
       "      <td>Column D; lower limit of 95% confidence intervals in smoothing procedure for temperature estimates.</td>\n",
       "    </tr>\n",
       "    <tr>\n",
       "      <th>7</th>\n",
       "      <td>Column E; observed temperature, smoothed by same procedure for temperature estimates.</td>\n",
       "    </tr>\n",
       "    <tr>\n",
       "      <th>8</th>\n",
       "      <td>Column F; Urban warming bias was obscured (Using Hikone weather station as a control site).</td>\n",
       "    </tr>\n",
       "    <tr>\n",
       "      <th>9</th>\n",
       "      <td>Column G; Same as Column F, except for using Kameoka weather station as a control site..</td>\n",
       "    </tr>\n",
       "  </tbody>\n",
       "</table>\n",
       "</div>"
      ],
      "text/plain": [
       "                                                                                                                                         TempReconst7Final.xls\n",
       "0                                                                                                  Reconstructed value of March mean temperature at Kyoto City\n",
       "1                                                                  801-1400 A.D. : Aono and Saito (2010): International Journal of Biometeorology, 54, 211-219\n",
       "2                                                                    1401-1990 A.D. : Aono and Kazui (2008): International Journal of Climatology, 28, 905-914\n",
       "3                                                                                Partly modified by Aono (2012): Chikyu Kankyo (Global Environment), 17, 21-29\n",
       "4  Column B; Reconstructed temperature deduced from 5 or more years phenological data in each 31-year time span used for smoothing by local linear regression.\n",
       "5                                                          Column C; upper limit of 95% confidence intervals in smoothing procedure for temperature estimates.\n",
       "6                                                          Column D; lower limit of 95% confidence intervals in smoothing procedure for temperature estimates.\n",
       "7                                                                        Column E; observed temperature, smoothed by same procedure for temperature estimates.\n",
       "8                                                                  Column F; Urban warming bias was obscured (Using Hikone weather station as a control site).\n",
       "9                                                                     Column G; Same as Column F, except for using Kameoka weather station as a control site.."
      ]
     },
     "execution_count": 19,
     "metadata": {},
     "output_type": "execute_result"
    }
   ],
   "source": [
    "# checking key\n",
    "temp_key"
   ]
  },
  {
   "cell_type": "markdown",
   "metadata": {},
   "source": [
    "## Data Wrangling"
   ]
  },
  {
   "cell_type": "code",
   "execution_count": 20,
   "metadata": {
    "execution": {
     "iopub.execute_input": "2021-09-30T05:03:11.386149Z",
     "iopub.status.busy": "2021-09-30T05:03:11.385878Z",
     "iopub.status.idle": "2021-09-30T05:03:11.417682Z",
     "shell.execute_reply": "2021-09-30T05:03:11.416887Z",
     "shell.execute_reply.started": "2021-09-30T05:03:11.386119Z"
    }
   },
   "outputs": [],
   "source": [
    "# getting column names\n",
    "temp.columns = temp.iloc[15]\n",
    "\n",
    "# dropping row with column names\n",
    "temp.drop(15, inplace=True)\n",
    "\n",
    "# dropping index name\n",
    "temp.columns.name = None"
   ]
  },
  {
   "cell_type": "markdown",
   "metadata": {},
   "source": [
    "## Data Cleaning"
   ]
  },
  {
   "cell_type": "code",
   "execution_count": 21,
   "metadata": {
    "execution": {
     "iopub.execute_input": "2021-09-30T05:03:11.419339Z",
     "iopub.status.busy": "2021-09-30T05:03:11.419005Z",
     "iopub.status.idle": "2021-09-30T05:03:11.453875Z",
     "shell.execute_reply": "2021-09-30T05:03:11.453192Z",
     "shell.execute_reply.started": "2021-09-30T05:03:11.419301Z"
    }
   },
   "outputs": [],
   "source": [
    "# dropping nulls\n",
    "temp.dropna(inplace=True)\n",
    "\n",
    "# dropping rows with missing estimated temperatures \n",
    "# -50 was used by the authors to denote missing temp values\n",
    "index_names = temp[temp['Estimated temperature']==-50].index\n",
    "temp.drop(index_names, inplace=True)\n",
    "\n",
    "# resetting index\n",
    "temp = temp.reset_index(drop=True)"
   ]
  },
  {
   "cell_type": "markdown",
   "metadata": {},
   "source": [
    "## Converting Dtypes"
   ]
  },
  {
   "cell_type": "code",
   "execution_count": 22,
   "metadata": {
    "execution": {
     "iopub.execute_input": "2021-09-30T05:03:11.455265Z",
     "iopub.status.busy": "2021-09-30T05:03:11.455078Z",
     "iopub.status.idle": "2021-09-30T05:03:11.482344Z",
     "shell.execute_reply": "2021-09-30T05:03:11.481692Z",
     "shell.execute_reply.started": "2021-09-30T05:03:11.455245Z"
    }
   },
   "outputs": [],
   "source": [
    "# converting datatypes\n",
    "temp = temp.apply(pd.to_numeric)"
   ]
  },
  {
   "cell_type": "markdown",
   "metadata": {},
   "source": [
    "## Feature Engineering "
   ]
  },
  {
   "cell_type": "code",
   "execution_count": 23,
   "metadata": {
    "execution": {
     "iopub.execute_input": "2021-09-30T05:03:11.483726Z",
     "iopub.status.busy": "2021-09-30T05:03:11.483466Z",
     "iopub.status.idle": "2021-09-30T05:03:11.511317Z",
     "shell.execute_reply": "2021-09-30T05:03:11.510804Z",
     "shell.execute_reply.started": "2021-09-30T05:03:11.483696Z"
    }
   },
   "outputs": [],
   "source": [
    "# adding fahrenheit column\n",
    "temp['F'] = (9/5)*temp['Estimated temperature']+32"
   ]
  },
  {
   "cell_type": "markdown",
   "metadata": {},
   "source": [
    "## Checking Work"
   ]
  },
  {
   "cell_type": "code",
   "execution_count": 24,
   "metadata": {
    "execution": {
     "iopub.execute_input": "2021-09-30T05:03:11.512723Z",
     "iopub.status.busy": "2021-09-30T05:03:11.512547Z",
     "iopub.status.idle": "2021-09-30T05:03:11.546500Z",
     "shell.execute_reply": "2021-09-30T05:03:11.545848Z",
     "shell.execute_reply.started": "2021-09-30T05:03:11.512701Z"
    }
   },
   "outputs": [
    {
     "name": "stdout",
     "output_type": "stream",
     "text": [
      "(1123, 8)\n"
     ]
    },
    {
     "data": {
      "text/html": [
       "<div>\n",
       "<style scoped>\n",
       "    .dataframe tbody tr th:only-of-type {\n",
       "        vertical-align: middle;\n",
       "    }\n",
       "\n",
       "    .dataframe tbody tr th {\n",
       "        vertical-align: top;\n",
       "    }\n",
       "\n",
       "    .dataframe thead th {\n",
       "        text-align: right;\n",
       "    }\n",
       "</style>\n",
       "<table border=\"1\" class=\"dataframe\">\n",
       "  <thead>\n",
       "    <tr style=\"text-align: right;\">\n",
       "      <th></th>\n",
       "      <th>AD</th>\n",
       "      <th>Estimated temperature</th>\n",
       "      <th>Upper limit</th>\n",
       "      <th>Lower limit</th>\n",
       "      <th>Observed temperature</th>\n",
       "      <th>Urban bias was subtracted (Hikone)</th>\n",
       "      <th>Urban bias was subtracted (Kameoka)</th>\n",
       "      <th>F</th>\n",
       "    </tr>\n",
       "  </thead>\n",
       "  <tbody>\n",
       "    <tr>\n",
       "      <th>0</th>\n",
       "      <td>854</td>\n",
       "      <td>5.87</td>\n",
       "      <td>10.99</td>\n",
       "      <td>0.75</td>\n",
       "      <td>-50.0</td>\n",
       "      <td>5.87</td>\n",
       "      <td>5.87</td>\n",
       "      <td>42.566</td>\n",
       "    </tr>\n",
       "    <tr>\n",
       "      <th>1</th>\n",
       "      <td>855</td>\n",
       "      <td>5.99</td>\n",
       "      <td>10.78</td>\n",
       "      <td>1.21</td>\n",
       "      <td>-50.0</td>\n",
       "      <td>5.99</td>\n",
       "      <td>5.99</td>\n",
       "      <td>42.782</td>\n",
       "    </tr>\n",
       "    <tr>\n",
       "      <th>2</th>\n",
       "      <td>856</td>\n",
       "      <td>6.12</td>\n",
       "      <td>10.60</td>\n",
       "      <td>1.64</td>\n",
       "      <td>-50.0</td>\n",
       "      <td>6.12</td>\n",
       "      <td>6.12</td>\n",
       "      <td>43.016</td>\n",
       "    </tr>\n",
       "    <tr>\n",
       "      <th>3</th>\n",
       "      <td>857</td>\n",
       "      <td>6.25</td>\n",
       "      <td>10.47</td>\n",
       "      <td>2.02</td>\n",
       "      <td>-50.0</td>\n",
       "      <td>6.25</td>\n",
       "      <td>6.25</td>\n",
       "      <td>43.250</td>\n",
       "    </tr>\n",
       "    <tr>\n",
       "      <th>4</th>\n",
       "      <td>858</td>\n",
       "      <td>6.37</td>\n",
       "      <td>10.39</td>\n",
       "      <td>2.35</td>\n",
       "      <td>-50.0</td>\n",
       "      <td>6.37</td>\n",
       "      <td>6.37</td>\n",
       "      <td>43.466</td>\n",
       "    </tr>\n",
       "  </tbody>\n",
       "</table>\n",
       "</div>"
      ],
      "text/plain": [
       "    AD  Estimated temperature  Upper limit  Lower limit  Observed temperature  \\\n",
       "0  854                   5.87        10.99         0.75                 -50.0   \n",
       "1  855                   5.99        10.78         1.21                 -50.0   \n",
       "2  856                   6.12        10.60         1.64                 -50.0   \n",
       "3  857                   6.25        10.47         2.02                 -50.0   \n",
       "4  858                   6.37        10.39         2.35                 -50.0   \n",
       "\n",
       "   Urban bias was subtracted (Hikone)  Urban bias was subtracted (Kameoka)  \\\n",
       "0                                5.87                                 5.87   \n",
       "1                                5.99                                 5.99   \n",
       "2                                6.12                                 6.12   \n",
       "3                                6.25                                 6.25   \n",
       "4                                6.37                                 6.37   \n",
       "\n",
       "        F  \n",
       "0  42.566  \n",
       "1  42.782  \n",
       "2  43.016  \n",
       "3  43.250  \n",
       "4  43.466  "
      ]
     },
     "execution_count": 24,
     "metadata": {},
     "output_type": "execute_result"
    }
   ],
   "source": [
    "print(temp.shape)\n",
    "temp.head()"
   ]
  },
  {
   "cell_type": "markdown",
   "metadata": {},
   "source": [
    "# Merging Date & Temp Dataframes"
   ]
  },
  {
   "cell_type": "code",
   "execution_count": 25,
   "metadata": {
    "execution": {
     "iopub.execute_input": "2021-09-30T05:03:11.547980Z",
     "iopub.status.busy": "2021-09-30T05:03:11.547796Z",
     "iopub.status.idle": "2021-09-30T05:03:11.577403Z",
     "shell.execute_reply": "2021-09-30T05:03:11.576729Z",
     "shell.execute_reply.started": "2021-09-30T05:03:11.547958Z"
    }
   },
   "outputs": [],
   "source": [
    "# joining data frames\n",
    "merged = df.merge(temp, on='AD')"
   ]
  },
  {
   "cell_type": "code",
   "execution_count": 26,
   "metadata": {
    "execution": {
     "iopub.execute_input": "2021-09-30T05:03:11.583514Z",
     "iopub.status.busy": "2021-09-30T05:03:11.583285Z",
     "iopub.status.idle": "2021-09-30T05:03:11.621380Z",
     "shell.execute_reply": "2021-09-30T05:03:11.620429Z",
     "shell.execute_reply.started": "2021-09-30T05:03:11.583487Z"
    }
   },
   "outputs": [
    {
     "data": {
      "text/html": [
       "<div>\n",
       "<style scoped>\n",
       "    .dataframe tbody tr th:only-of-type {\n",
       "        vertical-align: middle;\n",
       "    }\n",
       "\n",
       "    .dataframe tbody tr th {\n",
       "        vertical-align: top;\n",
       "    }\n",
       "\n",
       "    .dataframe thead th {\n",
       "        text-align: right;\n",
       "    }\n",
       "</style>\n",
       "<table border=\"1\" class=\"dataframe\">\n",
       "  <thead>\n",
       "    <tr style=\"text-align: right;\">\n",
       "      <th></th>\n",
       "      <th>AD</th>\n",
       "      <th>Full-flowering date (DOY)</th>\n",
       "      <th>Full-flowering date</th>\n",
       "      <th>Source code</th>\n",
       "      <th>Data type code</th>\n",
       "      <th>Reference Name</th>\n",
       "      <th>5_Year_Ave</th>\n",
       "      <th>Mean Peak</th>\n",
       "      <th>Estimated temperature</th>\n",
       "      <th>Upper limit</th>\n",
       "      <th>Lower limit</th>\n",
       "      <th>Observed temperature</th>\n",
       "      <th>Urban bias was subtracted (Hikone)</th>\n",
       "      <th>Urban bias was subtracted (Kameoka)</th>\n",
       "      <th>F</th>\n",
       "    </tr>\n",
       "  </thead>\n",
       "  <tbody>\n",
       "    <tr>\n",
       "      <th>0</th>\n",
       "      <td>864</td>\n",
       "      <td>100</td>\n",
       "      <td>409</td>\n",
       "      <td>1</td>\n",
       "      <td>2</td>\n",
       "      <td>NIPPON-SANDAI-JITSUROKU</td>\n",
       "      <td>102.6</td>\n",
       "      <td>104.556364</td>\n",
       "      <td>7.13</td>\n",
       "      <td>11.31</td>\n",
       "      <td>2.95</td>\n",
       "      <td>-50.0</td>\n",
       "      <td>7.13</td>\n",
       "      <td>7.13</td>\n",
       "      <td>44.834</td>\n",
       "    </tr>\n",
       "    <tr>\n",
       "      <th>1</th>\n",
       "      <td>866</td>\n",
       "      <td>106</td>\n",
       "      <td>416</td>\n",
       "      <td>1</td>\n",
       "      <td>2</td>\n",
       "      <td>NIPPON-SANDAI-JITSUROKU</td>\n",
       "      <td>102.8</td>\n",
       "      <td>104.556364</td>\n",
       "      <td>7.38</td>\n",
       "      <td>12.10</td>\n",
       "      <td>2.66</td>\n",
       "      <td>-50.0</td>\n",
       "      <td>7.38</td>\n",
       "      <td>7.38</td>\n",
       "      <td>45.284</td>\n",
       "    </tr>\n",
       "    <tr>\n",
       "      <th>2</th>\n",
       "      <td>891</td>\n",
       "      <td>109</td>\n",
       "      <td>419</td>\n",
       "      <td>5</td>\n",
       "      <td>4</td>\n",
       "      <td>NIHONKIRYAKU</td>\n",
       "      <td>102.8</td>\n",
       "      <td>104.556364</td>\n",
       "      <td>5.60</td>\n",
       "      <td>7.05</td>\n",
       "      <td>4.15</td>\n",
       "      <td>-50.0</td>\n",
       "      <td>5.60</td>\n",
       "      <td>5.60</td>\n",
       "      <td>42.080</td>\n",
       "    </tr>\n",
       "    <tr>\n",
       "      <th>3</th>\n",
       "      <td>892</td>\n",
       "      <td>108</td>\n",
       "      <td>417</td>\n",
       "      <td>5</td>\n",
       "      <td>3</td>\n",
       "      <td>FUSHIMIIN-GOKIROKKU</td>\n",
       "      <td>104.4</td>\n",
       "      <td>104.556364</td>\n",
       "      <td>5.71</td>\n",
       "      <td>7.00</td>\n",
       "      <td>4.42</td>\n",
       "      <td>-50.0</td>\n",
       "      <td>5.71</td>\n",
       "      <td>5.71</td>\n",
       "      <td>42.278</td>\n",
       "    </tr>\n",
       "    <tr>\n",
       "      <th>4</th>\n",
       "      <td>894</td>\n",
       "      <td>106</td>\n",
       "      <td>416</td>\n",
       "      <td>5</td>\n",
       "      <td>2</td>\n",
       "      <td>KANKE-BUNSOU</td>\n",
       "      <td>104.4</td>\n",
       "      <td>104.556364</td>\n",
       "      <td>5.95</td>\n",
       "      <td>7.66</td>\n",
       "      <td>4.24</td>\n",
       "      <td>-50.0</td>\n",
       "      <td>5.95</td>\n",
       "      <td>5.95</td>\n",
       "      <td>42.710</td>\n",
       "    </tr>\n",
       "  </tbody>\n",
       "</table>\n",
       "</div>"
      ],
      "text/plain": [
       "    AD  Full-flowering date (DOY)  Full-flowering date Source code  \\\n",
       "0  864                        100                  409           1   \n",
       "1  866                        106                  416           1   \n",
       "2  891                        109                  419           5   \n",
       "3  892                        108                  417           5   \n",
       "4  894                        106                  416           5   \n",
       "\n",
       "  Data type code           Reference Name  5_Year_Ave   Mean Peak  \\\n",
       "0              2  NIPPON-SANDAI-JITSUROKU       102.6  104.556364   \n",
       "1              2  NIPPON-SANDAI-JITSUROKU       102.8  104.556364   \n",
       "2              4             NIHONKIRYAKU       102.8  104.556364   \n",
       "3              3      FUSHIMIIN-GOKIROKKU       104.4  104.556364   \n",
       "4              2             KANKE-BUNSOU       104.4  104.556364   \n",
       "\n",
       "   Estimated temperature  Upper limit  Lower limit  Observed temperature  \\\n",
       "0                   7.13        11.31         2.95                 -50.0   \n",
       "1                   7.38        12.10         2.66                 -50.0   \n",
       "2                   5.60         7.05         4.15                 -50.0   \n",
       "3                   5.71         7.00         4.42                 -50.0   \n",
       "4                   5.95         7.66         4.24                 -50.0   \n",
       "\n",
       "   Urban bias was subtracted (Hikone)  Urban bias was subtracted (Kameoka)  \\\n",
       "0                                7.13                                 7.13   \n",
       "1                                7.38                                 7.38   \n",
       "2                                5.60                                 5.60   \n",
       "3                                5.71                                 5.71   \n",
       "4                                5.95                                 5.95   \n",
       "\n",
       "        F  \n",
       "0  44.834  \n",
       "1  45.284  \n",
       "2  42.080  \n",
       "3  42.278  \n",
       "4  42.710  "
      ]
     },
     "execution_count": 26,
     "metadata": {},
     "output_type": "execute_result"
    }
   ],
   "source": [
    "# checking work\n",
    "merged.head()"
   ]
  },
  {
   "cell_type": "markdown",
   "metadata": {},
   "source": [
    "# Visualizations"
   ]
  },
  {
   "cell_type": "markdown",
   "metadata": {},
   "source": [
    "### Mean Peak Bloom Day"
   ]
  },
  {
   "cell_type": "code",
   "execution_count": 27,
   "metadata": {
    "execution": {
     "iopub.execute_input": "2021-09-30T05:03:11.623477Z",
     "iopub.status.busy": "2021-09-30T05:03:11.623242Z",
     "iopub.status.idle": "2021-09-30T05:03:11.864981Z",
     "shell.execute_reply": "2021-09-30T05:03:11.864235Z",
     "shell.execute_reply.started": "2021-09-30T05:03:11.623448Z"
    }
   },
   "outputs": [
    {
     "data": {
      "image/png": "[encoded data removed]",
      "text/plain": [
       "<Figure size 1080x504 with 1 Axes>"
      ]
     },
     "metadata": {},
     "output_type": "display_data"
    }
   ],
   "source": [
    "vz.mean_plot(merged)"
   ]
  },
  {
   "cell_type": "markdown",
   "metadata": {},
   "source": [
    "### Peak Bloom Day 5-Year Moving Average"
   ]
  },
  {
   "cell_type": "code",
   "execution_count": 28,
   "metadata": {
    "execution": {
     "iopub.execute_input": "2021-09-30T05:03:11.866539Z",
     "iopub.status.busy": "2021-09-30T05:03:11.866387Z",
     "iopub.status.idle": "2021-09-30T05:03:12.111152Z",
     "shell.execute_reply": "2021-09-30T05:03:12.110370Z",
     "shell.execute_reply.started": "2021-09-30T05:03:11.866519Z"
    }
   },
   "outputs": [
    {
     "data": {
      "image/png": "[encoded data removed]",
      "text/plain": [
       "<Figure size 1080x504 with 1 Axes>"
      ]
     },
     "metadata": {},
     "output_type": "display_data"
    }
   ],
   "source": [
    "vz.sakura_plot(merged)"
   ]
  },
  {
   "cell_type": "markdown",
   "metadata": {},
   "source": [
    "### Estimated Mean March Temperature"
   ]
  },
  {
   "cell_type": "code",
   "execution_count": 29,
   "metadata": {
    "execution": {
     "iopub.execute_input": "2021-09-30T05:03:12.112723Z",
     "iopub.status.busy": "2021-09-30T05:03:12.112507Z",
     "iopub.status.idle": "2021-09-30T05:03:12.330008Z",
     "shell.execute_reply": "2021-09-30T05:03:12.329144Z",
     "shell.execute_reply.started": "2021-09-30T05:03:12.112672Z"
    }
   },
   "outputs": [
    {
     "data": {
      "image/png": "[encoded data removed]",
      "text/plain": [
       "<Figure size 1080x504 with 1 Axes>"
      ]
     },
     "metadata": {},
     "output_type": "display_data"
    }
   ],
   "source": [
    "vz.temp_plot(merged)"
   ]
  },
  {
   "cell_type": "markdown",
   "metadata": {},
   "source": [
    "### Peak Bloom Day by Temperature"
   ]
  },
  {
   "cell_type": "code",
   "execution_count": 30,
   "metadata": {
    "execution": {
     "iopub.execute_input": "2021-09-30T05:03:12.331369Z",
     "iopub.status.busy": "2021-09-30T05:03:12.331184Z",
     "iopub.status.idle": "2021-09-30T05:03:12.583962Z",
     "shell.execute_reply": "2021-09-30T05:03:12.583338Z",
     "shell.execute_reply.started": "2021-09-30T05:03:12.331341Z"
    }
   },
   "outputs": [
    {
     "data": {
      "image/png": "[encoded data removed]",
      "text/plain": [
       "<Figure size 1080x504 with 1 Axes>"
      ]
     },
     "metadata": {},
     "output_type": "display_data"
    }
   ],
   "source": [
    "vz.temp_day_plot(merged)"
   ]
  },
  {
   "cell_type": "markdown",
   "metadata": {},
   "source": [
    "# Linear Regression\n",
    "\n",
    "A simple linear regression model was created with `Full-flowering date (DOY)` as the target and `F` (Mean Temp in Kyoto for March) as the predictor. R-squared and the correlation coefficient for the fahrenheit temperature feature were found and the data and model were checked for adherence to the assumptions of linear reggression. \n",
    "A significance level of alpha = .05 was used for all statistical tests."
   ]
  },
  {
   "cell_type": "code",
   "execution_count": 31,
   "metadata": {
    "execution": {
     "iopub.execute_input": "2021-09-30T05:03:12.585211Z",
     "iopub.status.busy": "2021-09-30T05:03:12.585042Z",
     "iopub.status.idle": "2021-09-30T05:03:12.610893Z",
     "shell.execute_reply": "2021-09-30T05:03:12.610000Z",
     "shell.execute_reply.started": "2021-09-30T05:03:12.585191Z"
    }
   },
   "outputs": [],
   "source": [
    "simple_df = merged[['Full-flowering date (DOY)', 'F']].copy()"
   ]
  },
  {
   "cell_type": "code",
   "execution_count": 32,
   "metadata": {
    "execution": {
     "iopub.execute_input": "2021-09-30T05:03:12.612085Z",
     "iopub.status.busy": "2021-09-30T05:03:12.611783Z",
     "iopub.status.idle": "2021-09-30T05:03:12.638275Z",
     "shell.execute_reply": "2021-09-30T05:03:12.637510Z",
     "shell.execute_reply.started": "2021-09-30T05:03:12.612050Z"
    }
   },
   "outputs": [],
   "source": [
    "simple_df['Day'] = simple_df['Full-flowering date (DOY)']"
   ]
  },
  {
   "cell_type": "code",
   "execution_count": 33,
   "metadata": {
    "execution": {
     "iopub.execute_input": "2021-09-30T05:03:12.639937Z",
     "iopub.status.busy": "2021-09-30T05:03:12.639558Z",
     "iopub.status.idle": "2021-09-30T05:03:12.673215Z",
     "shell.execute_reply": "2021-09-30T05:03:12.672552Z",
     "shell.execute_reply.started": "2021-09-30T05:03:12.639883Z"
    }
   },
   "outputs": [],
   "source": [
    "model = ols(formula=\"Day ~ F\", data=simple_df)\n",
    "results = model.fit()"
   ]
  },
  {
   "cell_type": "code",
   "execution_count": 34,
   "metadata": {
    "execution": {
     "iopub.execute_input": "2021-09-30T05:03:12.674267Z",
     "iopub.status.busy": "2021-09-30T05:03:12.673993Z",
     "iopub.status.idle": "2021-09-30T05:03:12.707009Z",
     "shell.execute_reply": "2021-09-30T05:03:12.706284Z",
     "shell.execute_reply.started": "2021-09-30T05:03:12.674220Z"
    }
   },
   "outputs": [
    {
     "data": {
      "text/html": [
       "<table class=\"simpletable\">\n",
       "<caption>OLS Regression Results</caption>\n",
       "<tr>\n",
       "  <th>Dep. Variable:</th>           <td>Day</td>       <th>  R-squared:         </th> <td>   0.146</td>\n",
       "</tr>\n",
       "<tr>\n",
       "  <th>Model:</th>                   <td>OLS</td>       <th>  Adj. R-squared:    </th> <td>   0.145</td>\n",
       "</tr>\n",
       "<tr>\n",
       "  <th>Method:</th>             <td>Least Squares</td>  <th>  F-statistic:       </th> <td>   135.5</td>\n",
       "</tr>\n",
       "<tr>\n",
       "  <th>Date:</th>             <td>Wed, 29 Sep 2021</td> <th>  Prob (F-statistic):</th> <td>5.08e-29</td>\n",
       "</tr>\n",
       "<tr>\n",
       "  <th>Time:</th>                 <td>22:03:12</td>     <th>  Log-Likelihood:    </th> <td> -2534.9</td>\n",
       "</tr>\n",
       "<tr>\n",
       "  <th>No. Observations:</th>      <td>   797</td>      <th>  AIC:               </th> <td>   5074.</td>\n",
       "</tr>\n",
       "<tr>\n",
       "  <th>Df Residuals:</th>          <td>   795</td>      <th>  BIC:               </th> <td>   5083.</td>\n",
       "</tr>\n",
       "<tr>\n",
       "  <th>Df Model:</th>              <td>     1</td>      <th>                     </th>     <td> </td>   \n",
       "</tr>\n",
       "<tr>\n",
       "  <th>Covariance Type:</th>      <td>nonrobust</td>    <th>                     </th>     <td> </td>   \n",
       "</tr>\n",
       "</table>\n",
       "<table class=\"simpletable\">\n",
       "<tr>\n",
       "      <td></td>         <th>coef</th>     <th>std err</th>      <th>t</th>      <th>P>|t|</th>  <th>[0.025</th>    <th>0.975]</th>  \n",
       "</tr>\n",
       "<tr>\n",
       "  <th>Intercept</th> <td>  189.1378</td> <td>    7.248</td> <td>   26.094</td> <td> 0.000</td> <td>  174.910</td> <td>  203.366</td>\n",
       "</tr>\n",
       "<tr>\n",
       "  <th>F</th>         <td>   -1.9617</td> <td>    0.169</td> <td>  -11.639</td> <td> 0.000</td> <td>   -2.293</td> <td>   -1.631</td>\n",
       "</tr>\n",
       "</table>\n",
       "<table class=\"simpletable\">\n",
       "<tr>\n",
       "  <th>Omnibus:</th>       <td> 0.796</td> <th>  Durbin-Watson:     </th> <td>   2.042</td>\n",
       "</tr>\n",
       "<tr>\n",
       "  <th>Prob(Omnibus):</th> <td> 0.672</td> <th>  Jarque-Bera (JB):  </th> <td>   0.703</td>\n",
       "</tr>\n",
       "<tr>\n",
       "  <th>Skew:</th>          <td>-0.069</td> <th>  Prob(JB):          </th> <td>   0.704</td>\n",
       "</tr>\n",
       "<tr>\n",
       "  <th>Kurtosis:</th>      <td> 3.047</td> <th>  Cond. No.          </th> <td>1.51e+03</td>\n",
       "</tr>\n",
       "</table><br/><br/>Notes:<br/>[1] Standard Errors assume that the covariance matrix of the errors is correctly specified.<br/>[2] The condition number is large, 1.51e+03. This might indicate that there are<br/>strong multicollinearity or other numerical problems."
      ],
      "text/plain": [
       "<class 'statsmodels.iolib.summary.Summary'>\n",
       "\"\"\"\n",
       "                            OLS Regression Results                            \n",
       "==============================================================================\n",
       "Dep. Variable:                    Day   R-squared:                       0.146\n",
       "Model:                            OLS   Adj. R-squared:                  0.145\n",
       "Method:                 Least Squares   F-statistic:                     135.5\n",
       "Date:                Wed, 29 Sep 2021   Prob (F-statistic):           5.08e-29\n",
       "Time:                        22:03:12   Log-Likelihood:                -2534.9\n",
       "No. Observations:                 797   AIC:                             5074.\n",
       "Df Residuals:                     795   BIC:                             5083.\n",
       "Df Model:                           1                                         \n",
       "Covariance Type:            nonrobust                                         \n",
       "==============================================================================\n",
       "                 coef    std err          t      P>|t|      [0.025      0.975]\n",
       "------------------------------------------------------------------------------\n",
       "Intercept    189.1378      7.248     26.094      0.000     174.910     203.366\n",
       "F             -1.9617      0.169    -11.639      0.000      -2.293      -1.631\n",
       "==============================================================================\n",
       "Omnibus:                        0.796   Durbin-Watson:                   2.042\n",
       "Prob(Omnibus):                  0.672   Jarque-Bera (JB):                0.703\n",
       "Skew:                          -0.069   Prob(JB):                        0.704\n",
       "Kurtosis:                       3.047   Cond. No.                     1.51e+03\n",
       "==============================================================================\n",
       "\n",
       "Notes:\n",
       "[1] Standard Errors assume that the covariance matrix of the errors is correctly specified.\n",
       "[2] The condition number is large, 1.51e+03. This might indicate that there are\n",
       "strong multicollinearity or other numerical problems.\n",
       "\"\"\""
      ]
     },
     "execution_count": 34,
     "metadata": {},
     "output_type": "execute_result"
    }
   ],
   "source": [
    "results.summary()"
   ]
  },
  {
   "cell_type": "markdown",
   "metadata": {},
   "source": [
    "## Interpretation\n",
    "\n",
    "Our intercept suggests that for an average March temperature in Kyoto of 0 degrees fahrenheit, the mean peak bloom day will occur on the 189th day of the year. The fahrenheit (F) coefficient indicates that for every 1 degree rise in mean March temperature, the peak bloom day will occur 1.96 days earlier on average. Lastly, the model's r-squared value of .146 says that around 15% of the variance in peak bloom dates can be accounted for through the mean March temperature in Kyoto."
   ]
  },
  {
   "cell_type": "markdown",
   "metadata": {},
   "source": [
    "## Linear Regression Assumption Checks"
   ]
  },
  {
   "cell_type": "markdown",
   "metadata": {},
   "source": [
    "### Linearity Check: Rainbow Test\n",
    "Ho: The model is linearly predicted by the features.\n",
    "\n",
    "Ha: The Model is not linearly predicted by the features."
   ]
  },
  {
   "cell_type": "code",
   "execution_count": 35,
   "metadata": {
    "execution": {
     "iopub.execute_input": "2021-09-30T05:03:12.708161Z",
     "iopub.status.busy": "2021-09-30T05:03:12.707996Z",
     "iopub.status.idle": "2021-09-30T05:03:12.733272Z",
     "shell.execute_reply": "2021-09-30T05:03:12.732735Z",
     "shell.execute_reply.started": "2021-09-30T05:03:12.708141Z"
    }
   },
   "outputs": [
    {
     "name": "stdout",
     "output_type": "stream",
     "text": [
      "Rainbow statistic: 0.8556642516091699\n",
      "Rainbow p-value: 0.9397165963405847\n"
     ]
    }
   ],
   "source": [
    "fn.rainbow(results)"
   ]
  },
  {
   "cell_type": "markdown",
   "metadata": {},
   "source": [
    "#### Results: Pass\n",
    "Since the p-value is greater than .05, we fail to reject the null hypothesis and conclude that the model is linearly predicted by the features.  "
   ]
  },
  {
   "cell_type": "markdown",
   "metadata": {},
   "source": [
    "### Normality of Residuals Check: Jarque-Bera\n",
    "Ho: The residuals are normally distributed.\n",
    "\n",
    "Ha: The residuals are not normally distributed."
   ]
  },
  {
   "cell_type": "markdown",
   "metadata": {},
   "source": [
    "#### Results: Pass\n",
    "\n",
    "Since the JB p-value is greater than .05, we fail to reject the null hypothesis and find that the residuals are normaly distributed."
   ]
  },
  {
   "cell_type": "markdown",
   "metadata": {},
   "source": [
    "### Homoscedasticity Check: Inspection of the Residuals & Breusch-Pagan Test\n",
    "Plotting the errors (actual sale price - predicted sale price) against the predicted sale price and performing a Breusch-Pagan test.\n",
    "\n",
    "For the Breusch-Pagan Test:\n",
    "\n",
    "Ho: The variance of the target is homogeneous across all values of the predictors.\n",
    "\n",
    "Ha: The variance of the target is not homogeneous across all values of the predictors."
   ]
  },
  {
   "cell_type": "code",
   "execution_count": 36,
   "metadata": {
    "execution": {
     "iopub.execute_input": "2021-09-30T05:03:12.734862Z",
     "iopub.status.busy": "2021-09-30T05:03:12.734437Z",
     "iopub.status.idle": "2021-09-30T05:03:12.883847Z",
     "shell.execute_reply": "2021-09-30T05:03:12.883034Z",
     "shell.execute_reply.started": "2021-09-30T05:03:12.734823Z"
    }
   },
   "outputs": [
    {
     "data": {
      "image/png": "[encoded data removed]",
      "text/plain": [
       "<Figure size 720x360 with 1 Axes>"
      ]
     },
     "metadata": {},
     "output_type": "display_data"
    }
   ],
   "source": [
    "vz.error_plot(simple_df, 'Day', results)"
   ]
  },
  {
   "cell_type": "markdown",
   "metadata": {},
   "source": [
    "The residuals look reasonably distributed in the error-plot."
   ]
  },
  {
   "cell_type": "code",
   "execution_count": 37,
   "metadata": {
    "execution": {
     "iopub.execute_input": "2021-09-30T05:03:12.885443Z",
     "iopub.status.busy": "2021-09-30T05:03:12.885283Z",
     "iopub.status.idle": "2021-09-30T05:03:12.915692Z",
     "shell.execute_reply": "2021-09-30T05:03:12.914796Z",
     "shell.execute_reply.started": "2021-09-30T05:03:12.885422Z"
    }
   },
   "outputs": [
    {
     "name": "stdout",
     "output_type": "stream",
     "text": [
      "Lagrange Multiplier p-value: nan\n",
      "F-statistic p-value: 2.2723811886274197e-70\n"
     ]
    }
   ],
   "source": [
    "y = simple_df['Day']\n",
    "y_hat = results.predict()\n",
    "lm, lm_p_value, fvalue, f_p_value = het_breuschpagan(y-y_hat, simple_df[['F']])\n",
    "print('Lagrange Multiplier p-value:', lm_p_value)\n",
    "print('F-statistic p-value:', f_p_value)"
   ]
  },
  {
   "cell_type": "markdown",
   "metadata": {},
   "source": [
    "#### Result: Fail\n",
    "\n",
    "Since the BP test p-value was close to 0, we reject the null hypothesis and conclude that the residalus are not homogeneous across all values of the predictors."
   ]
  },
  {
   "cell_type": "markdown",
   "metadata": {},
   "source": [
    "### Independence Check: N/A\n",
    "\n",
    "Since the model only has one predictor, it is independent by definition."
   ]
  },
  {
   "cell_type": "code",
   "execution_count": null,
   "metadata": {},
   "outputs": [],
   "source": []
  }
 ],
 "metadata": {
  "kernelspec": {
   "display_name": "Python 3 (ipykernel)",
   "language": "python",
   "name": "python3"
  },
  "language_info": {
   "codemirror_mode": {
    "name": "ipython",
    "version": 3
   },
   "file_extension": ".py",
   "mimetype": "text/x-python",
   "name": "python",
   "nbconvert_exporter": "python",
   "pygments_lexer": "ipython3",
   "version": "3.9.7"
  }
 },
 "nbformat": 4,
 "nbformat_minor": 4
}
